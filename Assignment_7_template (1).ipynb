{
 "cells": [
  {
   "cell_type": "markdown",
   "metadata": {},
   "source": [
    "# Exercise 19 - Statistical moments of histograms using Pandas\n",
    "You are given data on olympic athletes in the form of `ex19\\_data.csv`, a filtered version of the complete dataset found at [Kaggle.com](https://www.kaggle.com/heesoo37/120-years-of-olympic-history-athletes-and-results/data).\n",
    "\n",
    "From this, you are going to analyse medal distributions.<br>\n",
    "\n",
    "Documentation about the Pandas library, can be found online at:\n",
    "https://pandas.pydata.org/docs/getting_started/intro_tutorials/03_subset_data.html <br>\n",
    "https://pandas.pydata.org/docs/reference/api/pandas.DataFrame.groupby.html <br>\n",
    "\n",
    "\n"
   ]
  },
  {
   "cell_type": "markdown",
   "metadata": {},
   "source": [
    "## 19.1\n",
    "\n",
    "Using `pandas.read_csv`, load the `ex21_data.csv` file available on Moodle. <br>\n",
    "\n",
    "A Gold medal counts as 3 points, Silver medal as 2 points and Bronze medal as 1 point. If `Medal` field for an athlete is `NaN`, assume the athlete has not won a medal (0 points).<br>\n",
    "\n",
    "Add to the DataFrame a new column `Score`, which associate to every `Medal` the above mentioned points.\n",
    "\n",
    "**HINT**: Try initializing a new `pandas.Series`\n",
    "\n",
    "\n"
   ]
  },
  {
   "cell_type": "code",
   "execution_count": 1,
   "metadata": {},
   "outputs": [],
   "source": [
    "import pandas as pd\n",
    "import numpy as np\n",
    "import matplotlib.pyplot as plt"
   ]
  },
  {
   "cell_type": "code",
   "execution_count": 2,
   "metadata": {},
   "outputs": [],
   "source": [
    "# YOUR ANSWER HERE"
   ]
  },
  {
   "cell_type": "markdown",
   "metadata": {
    "tags": []
   },
   "source": [
    "## 19.2\n",
    "Divide the pandas DataFrame into two, one for _male_ and the other for _female_ participants. <br>\n",
    "\n",
    "For both genders extract the following data from the DataFrame: <br>\n",
    "\n",
    "**1)** Total participant number per age  <br>\n",
    "**2)** The total score per age (sum the points for every medal won by atletes of a given age) <br>\n",
    "**3)** The average score per participant (of given age) per age. <br>\n",
    "\n",
    "In case an athlete participated in multiple competitions, you can count them as multiple participants. <br>\n"
   ]
  },
  {
   "cell_type": "code",
   "execution_count": null,
   "metadata": {},
   "outputs": [],
   "source": [
    "# YOUR ANSWER HERE"
   ]
  },
  {
   "cell_type": "markdown",
   "metadata": {
    "tags": []
   },
   "source": [
    "## 19.3\n",
    "Plot these 6 distributions into a single figure with 6 subplots.\n",
    "\n",
    "_(row 0 corresponds to female participants, row 1 to male participants)_"
   ]
  },
  {
   "cell_type": "code",
   "execution_count": null,
   "metadata": {},
   "outputs": [],
   "source": [
    "# YOUR ANSWER HERE"
   ]
  },
  {
   "cell_type": "markdown",
   "metadata": {
    "tags": []
   },
   "source": [
    "## 19.4\n",
    "\n",
    "Define a function which computes the following (weighted) statistical quantities of participant ages of all 6 distributions:\n",
    "\n",
    "* The mean\n",
    "* Standard deviation\n",
    "* Skewness\n",
    "* Kurtosis. \n",
    "\n",
    "**HINT**: You can cast pandas Series to np arrays using the `to_numpy` function. `DataFrame.index` returns the index colum of a DataFrame ."
   ]
  },
  {
   "cell_type": "markdown",
   "metadata": {
    "tags": []
   },
   "source": [
    "**Another HINT**:\n",
    "\n",
    "* The weighted mean is given as $\\bar{x} = \\sum_{i} x_i \\cdot w(x_i) / \\sum_{i} w(x_i)$.\n",
    "\n",
    "* The $n$-th weighted moment is given as $m_k = \\sum_{i} (x_i - \\bar{x})^k \\cdot w(x_i) / \\sum_{i} w(x_i)$.\n",
    "\n",
    "* The skewness is given as $m_3 / m_2^{3/2}$. <br>\n",
    "\n",
    "* The kurtosis is given as $m_4 / m_2^2$. To be clear: $x$ is the age, $w(x)$ are the different distributions."
   ]
  },
  {
   "cell_type": "code",
   "execution_count": null,
   "metadata": {},
   "outputs": [],
   "source": [
    "# YOUR ANSWER HERE"
   ]
  },
  {
   "cell_type": "markdown",
   "metadata": {},
   "source": [
    "# Exercise 20 - Molecular Dynamics of Gold and Copper\n",
    "\n",
    "\n",
    "In this exercise, you will analyze the structural information of a given material by using simple statistical tools.\n",
    "\n",
    "The AuCu bi-layer is a two-dimensional (2-D) film. In the ground state (i.e., near null temperature, $T \\sim 0$K), it shows a completely flat layer of Au atoms above a completely flat layer of Cu atoms (see the figure below). At $T \\sim 0$K, computational simulations (specifically, Density Functional Theory calculations) predict a value of $0.227$nm for the distance between the two layers. If the system is heated up, then atoms vibrate, changing the structural properties of the film (e.g., the layers are no longer completely flat).\n",
    "\n",
    "\n",
    "On Moodle were uploaded, the results obtained by molecular dynamic simulations, which calculate the evolution in time (in steps of $1$fs) of the AuCu bi-layer at specific temperatures. The simulation of $6878$fs time-steps is divided in three `numpy` files:\n",
    "\n",
    "\n",
    "- $\\textrm{MD_AuCu_100k.npy}$,  $T \\sim 100$K  with $500$fs steps,\n",
    "- $\\textrm{MD_AuCu_300k.npy}$,  $T \\sim 300$K  with $1378$fs steps,\n",
    "- $\\textrm{MD_AuCu_300k_2.npy}$,  $T \\sim 300$K  with $5000$fs steps.\n",
    "\n",
    "\n",
    "\n",
    "Moreover, an additional simulation was performed independently, heating up the system and, simultaneously, applying a strain which elongates the film along its lateral directions:\n",
    "- $\\textrm{MD_AuCu_strain.npy}$  $T \\sim 300$K  with $5000$fs steps.\n",
    "\n",
    "Technical information which may help you and/or answer your most curious questions:\n",
    "- The simulations include $50$ atoms of Cu and $50$ atoms of Au.\n",
    "\n",
    "- Periodic boundary conditions are applied (i.e., simulations of an infinitely large 2-D film).\n",
    "- A rigid drift (i.e., the rigid translation) of the system along z occurs, but it is not physically relevant (there is nothing but the 2-D AuCu film in the simulation universe).\n",
    "\n",
    "- Positions are expressed in Angström.\n",
    "- The stored arrays have four indexes:\n",
    "    * the time (fs)\n",
    "    * the element type 0=Cu/1=Au\n",
    "    * an index to identify the individual atom\n",
    "    * the three xyz coordinates ."
   ]
  },
  {
   "cell_type": "code",
   "execution_count": 10,
   "metadata": {
    "collapsed": true,
    "jupyter": {
     "outputs_hidden": true
    },
    "tags": []
   },
   "outputs": [
    {
     "ename": "FileNotFoundError",
     "evalue": "[Errno 2] No such file or directory: 'ex20_vmd.png'",
     "output_type": "error",
     "traceback": [
      "\u001b[0;31m---------------------------------------------------------------------------\u001b[0m",
      "\u001b[0;31mFileNotFoundError\u001b[0m                         Traceback (most recent call last)",
      "\u001b[0;32m/tmp/ipykernel_110/2395213072.py\u001b[0m in \u001b[0;36m<module>\u001b[0;34m\u001b[0m\n\u001b[1;32m      1\u001b[0m \u001b[0;32mimport\u001b[0m \u001b[0mmatplotlib\u001b[0m\u001b[0;34m.\u001b[0m\u001b[0mpyplot\u001b[0m \u001b[0;32mas\u001b[0m \u001b[0mplt\u001b[0m\u001b[0;34m\u001b[0m\u001b[0;34m\u001b[0m\u001b[0m\n\u001b[1;32m      2\u001b[0m \u001b[0mplt\u001b[0m\u001b[0;34m.\u001b[0m\u001b[0mfigure\u001b[0m\u001b[0;34m(\u001b[0m\u001b[0mdpi\u001b[0m\u001b[0;34m=\u001b[0m\u001b[0;36m120\u001b[0m\u001b[0;34m)\u001b[0m\u001b[0;34m\u001b[0m\u001b[0;34m\u001b[0m\u001b[0m\n\u001b[0;32m----> 3\u001b[0;31m \u001b[0mplt\u001b[0m\u001b[0;34m.\u001b[0m\u001b[0mimshow\u001b[0m\u001b[0;34m(\u001b[0m\u001b[0mplt\u001b[0m\u001b[0;34m.\u001b[0m\u001b[0mimread\u001b[0m\u001b[0;34m(\u001b[0m\u001b[0;34m'ex20_vmd.png'\u001b[0m\u001b[0;34m)\u001b[0m\u001b[0;34m)\u001b[0m\u001b[0;34m\u001b[0m\u001b[0;34m\u001b[0m\u001b[0m\n\u001b[0m\u001b[1;32m      4\u001b[0m \u001b[0mplt\u001b[0m\u001b[0;34m.\u001b[0m\u001b[0maxis\u001b[0m\u001b[0;34m(\u001b[0m\u001b[0;34m'off'\u001b[0m\u001b[0;34m)\u001b[0m\u001b[0;34m\u001b[0m\u001b[0;34m\u001b[0m\u001b[0m\n\u001b[1;32m      5\u001b[0m \u001b[0mplt\u001b[0m\u001b[0;34m.\u001b[0m\u001b[0mshow\u001b[0m\u001b[0;34m(\u001b[0m\u001b[0;34m)\u001b[0m\u001b[0;34m\u001b[0m\u001b[0;34m\u001b[0m\u001b[0m\n",
      "\u001b[0;32m/opt/conda/lib/python3.9/site-packages/matplotlib/pyplot.py\u001b[0m in \u001b[0;36mimread\u001b[0;34m(fname, format)\u001b[0m\n\u001b[1;32m   2405\u001b[0m \u001b[0;34m@\u001b[0m\u001b[0m_copy_docstring_and_deprecators\u001b[0m\u001b[0;34m(\u001b[0m\u001b[0mmatplotlib\u001b[0m\u001b[0;34m.\u001b[0m\u001b[0mimage\u001b[0m\u001b[0;34m.\u001b[0m\u001b[0mimread\u001b[0m\u001b[0;34m)\u001b[0m\u001b[0;34m\u001b[0m\u001b[0;34m\u001b[0m\u001b[0m\n\u001b[1;32m   2406\u001b[0m \u001b[0;32mdef\u001b[0m \u001b[0mimread\u001b[0m\u001b[0;34m(\u001b[0m\u001b[0mfname\u001b[0m\u001b[0;34m,\u001b[0m \u001b[0mformat\u001b[0m\u001b[0;34m=\u001b[0m\u001b[0;32mNone\u001b[0m\u001b[0;34m)\u001b[0m\u001b[0;34m:\u001b[0m\u001b[0;34m\u001b[0m\u001b[0;34m\u001b[0m\u001b[0m\n\u001b[0;32m-> 2407\u001b[0;31m     \u001b[0;32mreturn\u001b[0m \u001b[0mmatplotlib\u001b[0m\u001b[0;34m.\u001b[0m\u001b[0mimage\u001b[0m\u001b[0;34m.\u001b[0m\u001b[0mimread\u001b[0m\u001b[0;34m(\u001b[0m\u001b[0mfname\u001b[0m\u001b[0;34m,\u001b[0m \u001b[0mformat\u001b[0m\u001b[0;34m)\u001b[0m\u001b[0;34m\u001b[0m\u001b[0;34m\u001b[0m\u001b[0m\n\u001b[0m\u001b[1;32m   2408\u001b[0m \u001b[0;34m\u001b[0m\u001b[0m\n\u001b[1;32m   2409\u001b[0m \u001b[0;34m\u001b[0m\u001b[0m\n",
      "\u001b[0;32m/opt/conda/lib/python3.9/site-packages/matplotlib/image.py\u001b[0m in \u001b[0;36mimread\u001b[0;34m(fname, format)\u001b[0m\n\u001b[1;32m   1499\u001b[0m                     \u001b[0mresponse\u001b[0m \u001b[0;34m=\u001b[0m \u001b[0mio\u001b[0m\u001b[0;34m.\u001b[0m\u001b[0mBytesIO\u001b[0m\u001b[0;34m(\u001b[0m\u001b[0mresponse\u001b[0m\u001b[0;34m.\u001b[0m\u001b[0mread\u001b[0m\u001b[0;34m(\u001b[0m\u001b[0;34m)\u001b[0m\u001b[0;34m)\u001b[0m\u001b[0;34m\u001b[0m\u001b[0;34m\u001b[0m\u001b[0m\n\u001b[1;32m   1500\u001b[0m                 \u001b[0;32mreturn\u001b[0m \u001b[0mimread\u001b[0m\u001b[0;34m(\u001b[0m\u001b[0mresponse\u001b[0m\u001b[0;34m,\u001b[0m \u001b[0mformat\u001b[0m\u001b[0;34m=\u001b[0m\u001b[0mext\u001b[0m\u001b[0;34m)\u001b[0m\u001b[0;34m\u001b[0m\u001b[0;34m\u001b[0m\u001b[0m\n\u001b[0;32m-> 1501\u001b[0;31m     \u001b[0;32mwith\u001b[0m \u001b[0mimg_open\u001b[0m\u001b[0;34m(\u001b[0m\u001b[0mfname\u001b[0m\u001b[0;34m)\u001b[0m \u001b[0;32mas\u001b[0m \u001b[0mimage\u001b[0m\u001b[0;34m:\u001b[0m\u001b[0;34m\u001b[0m\u001b[0;34m\u001b[0m\u001b[0m\n\u001b[0m\u001b[1;32m   1502\u001b[0m         return (_pil_png_to_float_array(image)\n\u001b[1;32m   1503\u001b[0m                 \u001b[0;32mif\u001b[0m \u001b[0misinstance\u001b[0m\u001b[0;34m(\u001b[0m\u001b[0mimage\u001b[0m\u001b[0;34m,\u001b[0m \u001b[0mPIL\u001b[0m\u001b[0;34m.\u001b[0m\u001b[0mPngImagePlugin\u001b[0m\u001b[0;34m.\u001b[0m\u001b[0mPngImageFile\u001b[0m\u001b[0;34m)\u001b[0m \u001b[0;32melse\u001b[0m\u001b[0;34m\u001b[0m\u001b[0;34m\u001b[0m\u001b[0m\n",
      "\u001b[0;32m/opt/conda/lib/python3.9/site-packages/PIL/ImageFile.py\u001b[0m in \u001b[0;36m__init__\u001b[0;34m(self, fp, filename)\u001b[0m\n\u001b[1;32m    107\u001b[0m         \u001b[0;32mif\u001b[0m \u001b[0misPath\u001b[0m\u001b[0;34m(\u001b[0m\u001b[0mfp\u001b[0m\u001b[0;34m)\u001b[0m\u001b[0;34m:\u001b[0m\u001b[0;34m\u001b[0m\u001b[0;34m\u001b[0m\u001b[0m\n\u001b[1;32m    108\u001b[0m             \u001b[0;31m# filename\u001b[0m\u001b[0;34m\u001b[0m\u001b[0;34m\u001b[0m\u001b[0m\n\u001b[0;32m--> 109\u001b[0;31m             \u001b[0mself\u001b[0m\u001b[0;34m.\u001b[0m\u001b[0mfp\u001b[0m \u001b[0;34m=\u001b[0m \u001b[0mopen\u001b[0m\u001b[0;34m(\u001b[0m\u001b[0mfp\u001b[0m\u001b[0;34m,\u001b[0m \u001b[0;34m\"rb\"\u001b[0m\u001b[0;34m)\u001b[0m\u001b[0;34m\u001b[0m\u001b[0;34m\u001b[0m\u001b[0m\n\u001b[0m\u001b[1;32m    110\u001b[0m             \u001b[0mself\u001b[0m\u001b[0;34m.\u001b[0m\u001b[0mfilename\u001b[0m \u001b[0;34m=\u001b[0m \u001b[0mfp\u001b[0m\u001b[0;34m\u001b[0m\u001b[0;34m\u001b[0m\u001b[0m\n\u001b[1;32m    111\u001b[0m             \u001b[0mself\u001b[0m\u001b[0;34m.\u001b[0m\u001b[0m_exclusive_fp\u001b[0m \u001b[0;34m=\u001b[0m \u001b[0;32mTrue\u001b[0m\u001b[0;34m\u001b[0m\u001b[0;34m\u001b[0m\u001b[0m\n",
      "\u001b[0;31mFileNotFoundError\u001b[0m: [Errno 2] No such file or directory: 'ex20_vmd.png'"
     ]
    },
    {
     "data": {
      "text/plain": [
       "<Figure size 720x480 with 0 Axes>"
      ]
     },
     "metadata": {},
     "output_type": "display_data"
    }
   ],
   "source": [
    "import matplotlib.pyplot as plt\n",
    "plt.figure(dpi=120)\n",
    "plt.imshow(plt.imread('ex20_vmd.png'))\n",
    "plt.axis('off')\n",
    "plt.show()"
   ]
  },
  {
   "cell_type": "markdown",
   "metadata": {},
   "source": [
    "## 20.1\n",
    "Load the 4 files using `Numpy`, join the three arrays from the non strained simulations: \n",
    "\n",
    "* the one at 100k and\n",
    "* the two at 300k. <br>\n",
    "\n",
    "Scatter in a `matplotlib` 3Daxis plot the atoms' positions at time zero _(the fist point in the 100k simulation)_ "
   ]
  },
  {
   "cell_type": "code",
   "execution_count": null,
   "metadata": {},
   "outputs": [],
   "source": [
    "# YOUR ANSWER HERE"
   ]
  },
  {
   "cell_type": "markdown",
   "metadata": {},
   "source": [
    "## 20.2\n",
    "At every time step, calculate the average position along z of the Cu and Au layers, separately.\n"
   ]
  },
  {
   "cell_type": "code",
   "execution_count": 8,
   "metadata": {},
   "outputs": [],
   "source": [
    "# YOUR ANSWER HERE"
   ]
  },
  {
   "cell_type": "markdown",
   "metadata": {},
   "source": [
    "## 20.3\n",
    "At every time step, calculate the standard deviation of the z coordinate both for the Cu- and Au atoms, separately.\n"
   ]
  },
  {
   "cell_type": "code",
   "execution_count": 7,
   "metadata": {},
   "outputs": [],
   "source": [
    "# YOUR ANSWER HERE"
   ]
  },
  {
   "cell_type": "markdown",
   "metadata": {},
   "source": [
    "## 20.4\n",
    "Calculate the average distance between the Au and Cu layers."
   ]
  },
  {
   "cell_type": "code",
   "execution_count": 6,
   "metadata": {},
   "outputs": [],
   "source": [
    "# YOUR ANSWER HERE"
   ]
  },
  {
   "cell_type": "markdown",
   "metadata": {},
   "source": [
    "## 20.5\n",
    "Plot in a graph including the average distance (from task 20.4), and the standard deviations of Cu and Au atoms (from task 20.3), as functions of time.\n",
    "\n",
    "Show also the ground state value for the distance between the two layer."
   ]
  },
  {
   "cell_type": "code",
   "execution_count": null,
   "metadata": {},
   "outputs": [],
   "source": [
    "# YOUR ANSWER HERE"
   ]
  },
  {
   "cell_type": "markdown",
   "metadata": {},
   "source": [
    "## 20.6\n",
    "Repeat the calculation of the average distance and the standard deviation for the strained simulation, and draw a similar plot."
   ]
  },
  {
   "cell_type": "code",
   "execution_count": null,
   "metadata": {},
   "outputs": [],
   "source": [
    "# YOUR ANSWER HERE"
   ]
  },
  {
   "cell_type": "markdown",
   "metadata": {},
   "source": [
    "## 20.7\n",
    "Comment the effects of raising the temperature from $100$K to $300$K.\n"
   ]
  },
  {
   "cell_type": "code",
   "execution_count": null,
   "metadata": {},
   "outputs": [],
   "source": [
    "# YOUR ANSWER HERE"
   ]
  },
  {
   "cell_type": "markdown",
   "metadata": {},
   "source": [
    "## 20.8 \n",
    "Comment the effects of strain with respect to the non-strained film."
   ]
  },
  {
   "cell_type": "code",
   "execution_count": 5,
   "metadata": {},
   "outputs": [],
   "source": [
    "# YOUR ANSWER HERE"
   ]
  },
  {
   "cell_type": "markdown",
   "metadata": {},
   "source": [
    "# Exercise 21 - Introduction to Pytorch\n",
    "`Pytorch` is a software which is specific to create and costumize NN algorithm for machine learning.\n",
    "\n",
    "A more tutorials on how to run pytorch can be found at: https://pytorch.org/tutorials/ \n"
   ]
  },
  {
   "cell_type": "code",
   "execution_count": 4,
   "metadata": {},
   "outputs": [],
   "source": [
    "import torch\n",
    "from torch import nn,tensor"
   ]
  },
  {
   "cell_type": "markdown",
   "metadata": {},
   "source": [
    "## 21.1 PyTorch Tensors\n",
    "Help can be found at: https://pytorch.org/tutorials/beginner/basics/tensorqs_tutorial.html\n",
    "\n",
    "The basic data type in PyTorch are `tensors`, they resemble Numpy Arrays, but are optimized to be used inside the Machine Learning Model. <br> \n",
    "\n",
    "In order to familiarize yourself with tensors: <br>\n",
    "\n",
    "**1)** Construct one tensor from a Python list <br>\n",
    "\n",
    "**2)** Construct one tensor from a random numpy array <br>\n",
    "\n",
    "**3)** Generate three tensors:\n",
    "\n",
    "* one with random elements\n",
    "* one with all elemnts equal to 1\n",
    "* one with all zeros\n",
    "\n",
    "of shape (3,3) using the relative functions inside the module torch. <br>\n",
    "\n",
    "**4)** Notice that tensors, like numpy arrays, support most of the standard mathematical operations, compute three different matematical operations (based on your choice) using the previously generated tensors <br>\n",
    "\n",
    "**5)** Transform the results of your operations to numpy arrays"
   ]
  },
  {
   "cell_type": "code",
   "execution_count": 11,
   "metadata": {},
   "outputs": [],
   "source": [
    "# YOUR ANSWER HERE"
   ]
  },
  {
   "cell_type": "markdown",
   "metadata": {
    "tags": []
   },
   "source": [
    "## 21.2 Datasets\n",
    "In Pytorch data are grouped in `Datasets`, to define a costum dataset, you need to derive a costum class from the `torch.utils.data.Dataset` class (see class inheritance in Python).<br>\n",
    "\n",
    "A Dataset class must implement three functions: __init__, __len__, and __getitem__ , as in the following example found at: https://pytorch.org/tutorials/beginner/basics/data_tutorial.html#creating-a-custom-dataset-for-your-files\n",
    "\n",
    "\n",
    "    import os\n",
    "    import pandas as pd\n",
    "    from torchvision.io import read_image\n",
    "    from torch.utils.data import Dataset\n",
    "    \n",
    "    class CustomImageDataset(Dataset):\n",
    "        def __init__(self, annotations_file, img_dir, transform=None, target_transform=None):\n",
    "            self.img_labels = pd.read_csv(annotations_file)\n",
    "            self.img_dir = img_dir\n",
    "            self.transform = transform\n",
    "            self.target_transform = target_transform\n",
    "\n",
    "        def __len__(self):\n",
    "            return len(self.img_labels)\n",
    "\n",
    "        def __getitem__(self, idx):\n",
    "            img_path = os.path.join(self.img_dir, self.img_labels.iloc[idx, 0])\n",
    "            image = read_image(img_path)\n",
    "            label = self.img_labels.iloc[idx, 1]\n",
    "            if self.transform:\n",
    "                image = self.transform(image)\n",
    "            if self.target_transform:\n",
    "                label = self.target_transform(label)\n",
    "            return image, label\n",
    "In the example above the initializer saves a list of file names (img_labels) in the Dataset instance.\n",
    "The `__getitem__(n)` function reads from the hard drive the _nth_ image file. \n"
   ]
  },
  {
   "cell_type": "markdown",
   "metadata": {},
   "source": [
    "**1)** Create two random tensors (X,Y) of length 200.<br>\n",
    "\n",
    "**2)** Define a costum dataset which contains as objects two tensors (X and Y). The method `__getitem__(n)` should return (trivially) the _nth_ values of these tensors\n",
    "\n",
    "**3)** Test if the code works"
   ]
  },
  {
   "cell_type": "code",
   "execution_count": null,
   "metadata": {},
   "outputs": [],
   "source": [
    "# YOUR ANSWER HERE"
   ]
  },
  {
   "cell_type": "markdown",
   "metadata": {
    "tags": []
   },
   "source": [
    "## 21.3 Neural Layers\n",
    "`Neural layers` are function which apply transformations to tensors.\n",
    "The linear transformation is among the simplest:\n",
    "https://pytorch.org/tutorials/beginner/basics/buildmodel_tutorial.html#nn-linear\n",
    "\n",
    "**1)** Create a linear layer which has both as input and output one element tensors <br>\n",
    "\n",
    "**2)** Guess the parameters of the transformation, trying to apply the transformation to different tensor _(notice that the paramenter are randomly created every time you create a new layer)_<br>\n",
    "\n",
    "**3)** Concatenate two layers in order to produce from a scalar imput a 3D vector and a 3 by 3 matrix in the end"
   ]
  },
  {
   "cell_type": "code",
   "execution_count": null,
   "metadata": {},
   "outputs": [],
   "source": [
    "# YOUR ANSWER HERE"
   ]
  }
 ],
 "metadata": {
  "kernelspec": {
   "display_name": "Python 3 (ipykernel)",
   "language": "python",
   "name": "python3"
  },
  "language_info": {
   "codemirror_mode": {
    "name": "ipython",
    "version": 3
   },
   "file_extension": ".py",
   "mimetype": "text/x-python",
   "name": "python",
   "nbconvert_exporter": "python",
   "pygments_lexer": "ipython3",
   "version": "3.9.7"
  }
 },
 "nbformat": 4,
 "nbformat_minor": 4
}
